{
 "cells": [
  {
   "cell_type": "code",
   "execution_count": null,
   "id": "f3a46d2a-9934-4cd8-a3ab-187bb627ba74",
   "metadata": {},
   "outputs": [],
   "source": [
    "# Answer 1\n",
    "marks=int(input('Enter your marks'))\n",
    "if marks>90:\n",
    "    print('A')\n",
    "elif marks>80 and marks<=90:\n",
    "    print('B')\n",
    "elif marks>=60 and marks<=80:\n",
    "    print('C')\n",
    "else:\n",
    "    print('D')\n"
   ]
  },
  {
   "cell_type": "code",
   "execution_count": null,
   "id": "d80bd616-df4a-4cf4-be27-3fed22800e50",
   "metadata": {},
   "outputs": [],
   "source": [
    "# Answer 2\n",
    "cost=int(input('Cost of bike'))\n",
    "if cost>100000:\n",
    "    print('Your road tax is =',0.15*cost)\n",
    "elif cost>50000 and cost<=100000:\n",
    "     print('Your road tax is =',0.10*cost)\n",
    "elif cost<=50000:\n",
    "     print('Your road tax is =',0.5*cost)\n"
   ]
  },
  {
   "cell_type": "code",
   "execution_count": null,
   "id": "5dbe4c01-4743-4053-baa3-de35582029d0",
   "metadata": {},
   "outputs": [],
   "source": [
    "# Answer 3\n",
    "city=input('Enter any city')\n",
    "if city=='Delhi':\n",
    "    print('You should visit Red Fort')\n",
    "elif city=='Agra':\n",
    "    print('You should visit Taj Mahal')\n",
    "elif city=='Jaipur':\n",
    "    print('You should visit Jal Mahal')\n",
    "    "
   ]
  },
  {
   "cell_type": "code",
   "execution_count": null,
   "id": "52b7d5ff-bb27-46a9-98a9-dac76c7ee786",
   "metadata": {},
   "outputs": [],
   "source": [
    "# Answer 4\n",
    "num=int(input('Enter number'))\n",
    "count_division=0\n",
    "while num>10:\n",
    "    num=num/3\n",
    "    count_division+=1\n",
    "print(count_division)\n"
   ]
  },
  {
   "cell_type": "code",
   "execution_count": 2,
   "id": "981c668d-ee4e-4594-8a31-89e85454cc11",
   "metadata": {},
   "outputs": [
    {
     "name": "stdout",
     "output_type": "stream",
     "text": [
      "1\n",
      "2\n",
      "3\n",
      "4\n",
      "5\n",
      "6\n",
      "7\n",
      "8\n",
      "9\n",
      "10\n"
     ]
    }
   ],
   "source": [
    "# Answer 5\n",
    "# While loop checks weather the condition given is true or false then based on the result preforms a particular action.\n",
    "# It is used when there is a certain condition which is needed to satisfy the action to preform next step.\n",
    "# One of the example is:\n",
    "i=1\n",
    "while i<=10:\n",
    "    print(i)\n",
    "    i=i+1"
   ]
  },
  {
   "cell_type": "code",
   "execution_count": 6,
   "id": "d5e6ed45-73a7-4ff2-b122-043f62e25ffd",
   "metadata": {},
   "outputs": [
    {
     "name": "stdout",
     "output_type": "stream",
     "text": [
      "*\n",
      "**\n",
      "***\n",
      "****\n",
      "*****\n",
      "\n",
      "\n",
      "*****\n",
      "****\n",
      "***\n",
      "**\n",
      "*\n",
      "\n",
      "\n",
      "     *\n",
      "    **\n",
      "   ***\n",
      "  ****\n",
      " *****\n"
     ]
    }
   ],
   "source": [
    "# Answer 6\n",
    "# pattern 1\n",
    "i=1\n",
    "while i<=5:\n",
    "    j=1\n",
    "    while j<=i:\n",
    "        print('*',end='')\n",
    "        j+=1\n",
    "    print('')\n",
    "    i+=1\n",
    "print(\"\\n\")\n",
    "\n",
    "# Pattern 2\n",
    "i = 5\n",
    "while i >= 1:\n",
    "    j = 1\n",
    "    while j <= i:\n",
    "        print(\"*\", end=\"\")\n",
    "        j += 1\n",
    "    print(\"\")\n",
    "    i -= 1\n",
    "print(\"\\n\")\n",
    "\n",
    "# Pattern 3\n",
    "i = 1\n",
    "while i <= 5:\n",
    "    j = 5\n",
    "    while j >= i:\n",
    "        print(\" \", end=\"\")\n",
    "        j -= 1\n",
    "    k = 1\n",
    "    while k <= i:\n",
    "        print(\"*\", end=\"\")\n",
    "        k += 1\n",
    "    print(\"\")\n",
    "    i += 1"
   ]
  },
  {
   "cell_type": "code",
   "execution_count": 7,
   "id": "8535be2d-b9ca-471b-96f2-18dfda473924",
   "metadata": {},
   "outputs": [
    {
     "name": "stdout",
     "output_type": "stream",
     "text": [
      "10\n",
      "9\n",
      "8\n",
      "7\n",
      "6\n",
      "5\n",
      "4\n",
      "3\n",
      "2\n",
      "1\n"
     ]
    }
   ],
   "source": [
    "# Answer 7\n",
    "i = 10\n",
    "while i >= 1:\n",
    "    print(i)\n",
    "    i -= 1"
   ]
  },
  {
   "cell_type": "code",
   "execution_count": 8,
   "id": "7a7f601d-feaa-432a-864d-6d0e2ee4e71d",
   "metadata": {},
   "outputs": [
    {
     "name": "stdout",
     "output_type": "stream",
     "text": [
      "10\n",
      "9\n",
      "8\n",
      "7\n",
      "6\n",
      "5\n",
      "4\n",
      "3\n",
      "2\n",
      "1\n"
     ]
    }
   ],
   "source": [
    "# Answer 8\n",
    "i = 10\n",
    "while i >= 1:\n",
    "    print(i)\n",
    "    i -= 1"
   ]
  },
  {
   "cell_type": "code",
   "execution_count": null,
   "id": "ccc3629f-1a96-4148-8d91-2f0fd97656f0",
   "metadata": {},
   "outputs": [],
   "source": []
  }
 ],
 "metadata": {
  "kernelspec": {
   "display_name": "Python 3 (ipykernel)",
   "language": "python",
   "name": "python3"
  },
  "language_info": {
   "codemirror_mode": {
    "name": "ipython",
    "version": 3
   },
   "file_extension": ".py",
   "mimetype": "text/x-python",
   "name": "python",
   "nbconvert_exporter": "python",
   "pygments_lexer": "ipython3",
   "version": "3.10.8"
  }
 },
 "nbformat": 4,
 "nbformat_minor": 5
}
